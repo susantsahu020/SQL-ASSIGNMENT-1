{
 "cells": [
  {
   "cell_type": "code",
   "execution_count": 3,
   "id": "f5922cd4",
   "metadata": {
    "id": "f5922cd4"
   },
   "outputs": [
    {
     "name": "stdout",
     "output_type": "stream",
     "text": [
      "The first row in the resulting record set : 46796E3331\n"
     ]
    }
   ],
   "source": [
    "import sqlite3\n",
    "\n",
    "# Create a database in RAM\n",
    "db = sqlite3.connect(':memory:')\n",
    "\n",
    "# Get a cursor object\n",
    "cursor = db.cursor()\n",
    "cursor.execute('''\n",
    "    CREATE TABLE Ages (\n",
    "  name VARCHAR(128),\n",
    "  age INTEGER\n",
    ")''')\n",
    "\n",
    "\n",
    "cursor.execute('''DELETE FROM Ages''')\n",
    "\n",
    "# Insert users\n",
    "cursor.execute('''INSERT INTO Ages (name, age) VALUES ('Mara', 28)''')\n",
    "cursor.execute('''INSERT INTO Ages (name, age) VALUES ('Otto', 33)''')\n",
    "cursor.execute('''INSERT INTO Ages (name, age) VALUES ('Fyn', 31)''')\n",
    "cursor.execute('''INSERT INTO Ages (name, age) VALUES ('Neshawn', 17)''')\n",
    "cursor.execute('''INSERT INTO Ages (name, age) VALUES ('Susant', 27)''')\n",
    "\n",
    "#Select user\n",
    "cursor.execute('''SELECT hex(name || age) AS X FROM Ages ORDER BY X''')\n",
    "\n",
    "#retrieve the first row\n",
    "user1 = cursor.fetchone()\n",
    "#Print the first column retrieved(user's name)\n",
    "print(\"The first row in the resulting record set : \"+user1[0])\n",
    "\n",
    "#Commit changes into database\n",
    "db.commit()\n",
    "#Close database\n",
    "db.close()"
   ]
  }
 ],
 "metadata": {
  "colab": {
   "provenance": []
  },
  "kernelspec": {
   "display_name": "Python 3 (ipykernel)",
   "language": "python",
   "name": "python3"
  },
  "language_info": {
   "codemirror_mode": {
    "name": "ipython",
    "version": 3
   },
   "file_extension": ".py",
   "mimetype": "text/x-python",
   "name": "python",
   "nbconvert_exporter": "python",
   "pygments_lexer": "ipython3",
   "version": "3.11.5"
  }
 },
 "nbformat": 4,
 "nbformat_minor": 5
}
